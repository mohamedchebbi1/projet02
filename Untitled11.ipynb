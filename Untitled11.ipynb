{
 "cells": [
  {
   "cell_type": "markdown",
   "id": "549526bb",
   "metadata": {},
   "source": [
    "# projet coursera : tools for data science"
   ]
  },
  {
   "cell_type": "markdown",
   "id": "498a8ec2",
   "metadata": {},
   "source": [
    "# this is a project for coursera , i'm using jupyter notebook write some codes ."
   ]
  },
  {
   "cell_type": "markdown",
   "id": "a4d9ff08",
   "metadata": {},
   "source": [
    "# [Python, R,Java,SQL]"
   ]
  },
  {
   "cell_type": "markdown",
   "id": "916c64ed",
   "metadata": {},
   "source": [
    "# [ numpy,pandas,scikit-learn,Matplotlib,Seaborn,TensorFlow,PyTorch,keras]"
   ]
  },
  {
   "cell_type": "markdown",
   "id": "ca8b3518",
   "metadata": {},
   "source": [
    "#    | Tool            | Language|\n",
    "\n",
    "     |-------------------|-----------------|\n",
    "     | Jupyter Notebooks | Python, R, etc. |\n",
    "     | RStudio           | R               |\n",
    "     | VS Code           | Python, R, etc. |\n",
    "     | Spyder            | Python          |\n",
    "     | Tableau           | -               |\n"
   ]
  },
  {
   "cell_type": "markdown",
   "id": "66dbb439",
   "metadata": {},
   "source": [
    "# (5+6)*2=22\n",
    "# (22*3)/6=11"
   ]
  },
  {
   "cell_type": "code",
   "execution_count": 5,
   "id": "3600a562",
   "metadata": {},
   "outputs": [
    {
     "name": "stdout",
     "output_type": "stream",
     "text": [
      "c= 2 d= 3\n"
     ]
    }
   ],
   "source": [
    "a=1\n",
    "b=2\n",
    "c=a*b\n",
    "d=a+b\n",
    "print(\"c=\",c,\"d=\",d)"
   ]
  },
  {
   "cell_type": "code",
   "execution_count": 6,
   "id": "0f839e0c",
   "metadata": {},
   "outputs": [
    {
     "name": "stdout",
     "output_type": "stream",
     "text": [
      "30.0\n"
     ]
    }
   ],
   "source": [
    "m= 1800\n",
    "h=m/60\n",
    "print(h)"
   ]
  },
  {
   "cell_type": "markdown",
   "id": "ac8ab1d2",
   "metadata": {},
   "source": [
    "# my objectives are: \n",
    "# getting better in data science\n",
    "# go to cern"
   ]
  },
  {
   "cell_type": "markdown",
   "id": "d3bf2182",
   "metadata": {},
   "source": [
    "# my name is dr mohamed chebbi"
   ]
  },
  {
   "cell_type": "code",
   "execution_count": null,
   "id": "9efc35fa",
   "metadata": {},
   "outputs": [],
   "source": []
  }
 ],
 "metadata": {
  "kernelspec": {
   "display_name": "Python 3 (ipykernel)",
   "language": "python",
   "name": "python3"
  },
  "language_info": {
   "codemirror_mode": {
    "name": "ipython",
    "version": 3
   },
   "file_extension": ".py",
   "mimetype": "text/x-python",
   "name": "python",
   "nbconvert_exporter": "python",
   "pygments_lexer": "ipython3",
   "version": "3.11.3"
  }
 },
 "nbformat": 4,
 "nbformat_minor": 5
}
